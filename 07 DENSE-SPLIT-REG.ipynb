{
 "cells": [
  {
   "cell_type": "markdown",
   "metadata": {},
   "source": [
    "# 07 DENSE-SPLIT-REG"
   ]
  },
  {
   "cell_type": "code",
   "execution_count": null,
   "metadata": {
    "collapsed": true
   },
   "outputs": [],
   "source": [
    "import config\n",
    "from utils import data_model\n",
    "from utils.model import Model\n",
    "\n",
    "import pandas as pd\n",
    "import numpy as np\n",
    "import tensorflow as tf"
   ]
  },
  {
   "cell_type": "markdown",
   "metadata": {},
   "source": [
    "## Load data"
   ]
  },
  {
   "cell_type": "code",
   "execution_count": null,
   "metadata": {
    "collapsed": true
   },
   "outputs": [],
   "source": [
    "data, imgs_left, imgs_right = data_model.load(\n",
    "    config.PATH_DATA_FEATURES01_DLIB_AUGMENTED_NORM_CSV,\n",
    "    config.PATH_DATA_FEATURES01_DLIB_AUGMENTED_NORM_IMGS_LEFT,\n",
    "    config.PATH_DATA_FEATURES01_DLIB_AUGMENTED_NORM_IMGS_RIGHT\n",
    ")"
   ]
  },
  {
   "cell_type": "code",
   "execution_count": null,
   "metadata": {
    "collapsed": true
   },
   "outputs": [],
   "source": [
    "data.head()"
   ]
  },
  {
   "cell_type": "markdown",
   "metadata": {},
   "source": [
    "## Split data"
   ]
  },
  {
   "cell_type": "code",
   "execution_count": null,
   "metadata": {
    "collapsed": true
   },
   "outputs": [],
   "source": [
    "(\n",
    "    (train_data, train_imgs_left, train_imgs_right),\n",
    "    (validation_data, validation_imgs_left, validation_imgs_right),\n",
    "    (test_data, test_imgs_left, test_imgs_right)\n",
    ") = data_model.split(\n",
    "    data, imgs_left, imgs_right,\n",
    "    train_size=0.95,\n",
    "    validation_size=0.95,\n",
    "    random_state=42\n",
    ")"
   ]
  },
  {
   "cell_type": "code",
   "execution_count": null,
   "metadata": {
    "collapsed": true,
    "scrolled": true
   },
   "outputs": [],
   "source": [
    "print(\"Train length: {}\".format(len(train_data)))\n",
    "print(\"Validation length: {}\".format(len(validation_data)))\n",
    "print(\"Test length: {}\".format(len(test_data)))"
   ]
  },
  {
   "cell_type": "markdown",
   "metadata": {},
   "source": [
    "## Model"
   ]
  },
  {
   "cell_type": "markdown",
   "metadata": {},
   "source": [
    "### Architecture"
   ]
  },
  {
   "cell_type": "markdown",
   "metadata": {},
   "source": [
    "![](img/models/07-DSR.png)"
   ]
  },
  {
   "cell_type": "code",
   "execution_count": null,
   "metadata": {
    "collapsed": true
   },
   "outputs": [],
   "source": [
    "def get_model(features, left_imgs, right_imgs, keep_prob):\n",
    "    with tf.variable_scope('model'):\n",
    "        # Left Eye\n",
    "        l_flat = tf.contrib.layers.flatten (left_imgs)\n",
    "        l_d1 = tf.layers.dense(l_flat, 256, activation=tf.nn.relu)\n",
    "        l_d2 = tf.layers.dense(l_d1, 64, activation=tf.nn.relu)\n",
    "        l_drop = tf.nn.dropout(x=l_d2, keep_prob=keep_prob)\n",
    "        \n",
    "        # Right Eye\n",
    "        r_flat = tf.contrib.layers.flatten (right_imgs)\n",
    "        r_d1 = tf.layers.dense(r_flat, 256, activation=tf.nn.relu)\n",
    "        r_d2 = tf.layers.dense(r_d1, 64, activation=tf.nn.relu)\n",
    "        r_drop = tf.nn.dropout(x=r_d2, keep_prob=keep_prob)\n",
    "        \n",
    "        # Combine all\n",
    "        all_concat = tf.concat(\n",
    "            values=[features, l_drop, r_drop],\n",
    "            axis=1\n",
    "        )\n",
    "        all_d1 = tf.layers.dense(all_concat, 256, activation=tf.nn.relu)\n",
    "        all_drop = tf.nn.dropout(x=all_d1, keep_prob=keep_prob)\n",
    "        all_d2 = tf.layers.dense(all_drop, 64, activation=tf.nn.relu)\n",
    "        all_d3 = tf.layers.dense(all_concat, 2, activation=None)\n",
    "        \n",
    "    return all_d3"
   ]
  },
  {
   "cell_type": "code",
   "execution_count": null,
   "metadata": {},
   "outputs": [],
   "source": [
    "print(\"Parameters to adjust: {}\".format( \n",
    "    (\n",
    "        (20*30*256)+\n",
    "        256*64\n",
    "    )*2+\n",
    "    (64*2+12)*256+\n",
    "    256*64+\n",
    "    64*2\n",
    "))"
   ]
  },
  {
   "cell_type": "markdown",
   "metadata": {},
   "source": [
    "### Parameters"
   ]
  },
  {
   "cell_type": "code",
   "execution_count": null,
   "metadata": {
    "collapsed": true
   },
   "outputs": [],
   "source": [
    "MODEL_NAME = 'DSR-07'\n",
    "\n",
    "EPOCHS = 100\n",
    "BATCH_SIZE = 256\n",
    "LEARNING_RATE = 0.0005\n",
    "KEEP_PROB = 0.85"
   ]
  },
  {
   "cell_type": "markdown",
   "metadata": {},
   "source": [
    "## Runs"
   ]
  },
  {
   "cell_type": "code",
   "execution_count": null,
   "metadata": {
    "collapsed": true
   },
   "outputs": [],
   "source": [
    "model = Model(MODEL_NAME, get_model)"
   ]
  },
  {
   "cell_type": "markdown",
   "metadata": {},
   "source": [
    "### Train"
   ]
  },
  {
   "cell_type": "code",
   "execution_count": null,
   "metadata": {
    "collapsed": true,
    "scrolled": true
   },
   "outputs": [],
   "source": [
    "model.train(\n",
    "    train_data, train_imgs_left, train_imgs_right,\n",
    "    validation_data, validation_imgs_left, validation_imgs_right,\n",
    "    BATCH_SIZE, EPOCHS, LEARNING_RATE, KEEP_PROB\n",
    ")"
   ]
  },
  {
   "cell_type": "markdown",
   "metadata": {},
   "source": [
    "### Test"
   ]
  },
  {
   "cell_type": "code",
   "execution_count": null,
   "metadata": {
    "collapsed": true,
    "scrolled": false
   },
   "outputs": [],
   "source": [
    "model_test = Model(MODEL_NAME, saved_model=MODEL_NAME+\".final\")"
   ]
  },
  {
   "cell_type": "code",
   "execution_count": null,
   "metadata": {
    "collapsed": true
   },
   "outputs": [],
   "source": [
    "model_test.test(\n",
    "    test_data, test_imgs_left, test_imgs_right\n",
    ")"
   ]
  },
  {
   "cell_type": "markdown",
   "metadata": {},
   "source": [
    "### Results\n",
    "\n",
    "\n",
    "| Name | Epochs | Batch Size | Learning rate | Keep_prob | Train | Validation | Test |\n",
    "|:--:|:--:|:--:|:--:|:--:|:--:|:--:|\n",
    "| DSR-01 | 25 | 256 | 0.001 | 1.0 | 0.09392019361257553 | 0.16234776377677917 | 0.16432613 |\n",
    "| DSR-02 | 25 | 256 | 0.001 | 0.9 | 0.10075189918279648 | 0.16525883972644806 | 0.16685201 |\n",
    "| DSR-03 | 25 | 256 | 0.001 | 0.7 | 0.12321840226650238 | 0.17533698678016663 | 0.17595138 |\n",
    "| DSR-04 | 50 | 256 | 0.0005 | 0.85 | 0.08604488521814346 | 0.16130870580673218 | 0.16228983 |\n",
    "| DSR-05 | 50 | 512 | 0.0005 | 0.85 | 0.08791523426771164 | 0.1647828370332718 | 0.16689432 |\n",
    "| DSR-06 | 100 | 256 | 0.0001 | 0.9 | 0.0811753049492836 | 0.16763710975646973 | 0.16976333 |\n",
    "| DSR-07 | 100 | 256 | 0.0005 | 0.85 | 0.06679268181324005 | 0.1450866460800171 | 0.14738837 |"
   ]
  }
 ],
 "metadata": {
  "kernelspec": {
   "display_name": "Python 3",
   "language": "python",
   "name": "python3"
  },
  "language_info": {
   "codemirror_mode": {
    "name": "ipython",
    "version": 3
   },
   "file_extension": ".py",
   "mimetype": "text/x-python",
   "name": "python",
   "nbconvert_exporter": "python",
   "pygments_lexer": "ipython3",
   "version": "3.5.2"
  }
 },
 "nbformat": 4,
 "nbformat_minor": 2
}
