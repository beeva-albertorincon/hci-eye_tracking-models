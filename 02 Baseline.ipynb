{
 "cells": [
  {
   "cell_type": "markdown",
   "metadata": {},
   "source": [
    "# 02 Baseline"
   ]
  },
  {
   "cell_type": "code",
   "execution_count": 1,
   "metadata": {
    "collapsed": true
   },
   "outputs": [],
   "source": [
    "import config\n",
    "from utils import data as utils_data\n",
    "from utils.model import Model\n",
    "\n",
    "import pandas as pd\n",
    "import numpy as np\n",
    "import tensorflow as tf"
   ]
  },
  {
   "cell_type": "markdown",
   "metadata": {},
   "source": [
    "## Load data"
   ]
  },
  {
   "cell_type": "code",
   "execution_count": 2,
   "metadata": {
    "collapsed": true
   },
   "outputs": [],
   "source": [
    "data, imgs_left, imgs_right = utils_data.load(\n",
    "    config.PATH_DATA, config.PATH_IMGS_LEFT, config.PATH_IMGS_RIGHT\n",
    ")"
   ]
  },
  {
   "cell_type": "code",
   "execution_count": 3,
   "metadata": {},
   "outputs": [
    {
     "data": {
      "text/html": [
       "<div>\n",
       "<style>\n",
       "    .dataframe thead tr:only-child th {\n",
       "        text-align: right;\n",
       "    }\n",
       "\n",
       "    .dataframe thead th {\n",
       "        text-align: left;\n",
       "    }\n",
       "\n",
       "    .dataframe tbody tr th {\n",
       "        vertical-align: top;\n",
       "    }\n",
       "</style>\n",
       "<table border=\"1\" class=\"dataframe\">\n",
       "  <thead>\n",
       "    <tr style=\"text-align: right;\">\n",
       "      <th></th>\n",
       "      <th>eye_right_x</th>\n",
       "      <th>eye_right_y</th>\n",
       "      <th>eye_right_width</th>\n",
       "      <th>eye_right_image</th>\n",
       "      <th>face_width</th>\n",
       "      <th>eye_left_width</th>\n",
       "      <th>face_height</th>\n",
       "      <th>eye_left_x</th>\n",
       "      <th>eye_left_y</th>\n",
       "      <th>eye_right_height</th>\n",
       "      <th>face_x</th>\n",
       "      <th>face_y</th>\n",
       "      <th>eye_left_height</th>\n",
       "      <th>y</th>\n",
       "      <th>x</th>\n",
       "      <th>eye_left_image</th>\n",
       "      <th>glasses</th>\n",
       "    </tr>\n",
       "  </thead>\n",
       "  <tbody>\n",
       "    <tr>\n",
       "      <th>0</th>\n",
       "      <td>0.051562</td>\n",
       "      <td>0.456944</td>\n",
       "      <td>0.171875</td>\n",
       "      <td>1c322a8bbd645b20da263dd342dc20ce_eye_right_0.jpg</td>\n",
       "      <td>0.503125</td>\n",
       "      <td>0.171875</td>\n",
       "      <td>0.447222</td>\n",
       "      <td>-0.162500</td>\n",
       "      <td>0.454167</td>\n",
       "      <td>0.081944</td>\n",
       "      <td>-0.232813</td>\n",
       "      <td>0.384722</td>\n",
       "      <td>0.077778</td>\n",
       "      <td>0.585938</td>\n",
       "      <td>-0.998536</td>\n",
       "      <td>1c322a8bbd645b20da263dd342dc20ce_eye_left_0.jpg</td>\n",
       "      <td>False</td>\n",
       "    </tr>\n",
       "    <tr>\n",
       "      <th>1</th>\n",
       "      <td>0.050000</td>\n",
       "      <td>0.459722</td>\n",
       "      <td>0.175000</td>\n",
       "      <td>1c322a8bbd645b20da263dd342dc20ce_eye_right_1.jpg</td>\n",
       "      <td>0.503125</td>\n",
       "      <td>0.165625</td>\n",
       "      <td>0.447222</td>\n",
       "      <td>-0.160937</td>\n",
       "      <td>0.456944</td>\n",
       "      <td>0.070833</td>\n",
       "      <td>-0.232813</td>\n",
       "      <td>0.384722</td>\n",
       "      <td>0.059722</td>\n",
       "      <td>0.585938</td>\n",
       "      <td>-0.998536</td>\n",
       "      <td>1c322a8bbd645b20da263dd342dc20ce_eye_left_1.jpg</td>\n",
       "      <td>False</td>\n",
       "    </tr>\n",
       "    <tr>\n",
       "      <th>2</th>\n",
       "      <td>0.050000</td>\n",
       "      <td>0.458333</td>\n",
       "      <td>0.171875</td>\n",
       "      <td>1c322a8bbd645b20da263dd342dc20ce_eye_right_2.jpg</td>\n",
       "      <td>0.503125</td>\n",
       "      <td>0.171875</td>\n",
       "      <td>0.447222</td>\n",
       "      <td>-0.160937</td>\n",
       "      <td>0.454167</td>\n",
       "      <td>0.077778</td>\n",
       "      <td>-0.232813</td>\n",
       "      <td>0.384722</td>\n",
       "      <td>0.075000</td>\n",
       "      <td>0.585938</td>\n",
       "      <td>-0.998536</td>\n",
       "      <td>1c322a8bbd645b20da263dd342dc20ce_eye_left_2.jpg</td>\n",
       "      <td>False</td>\n",
       "    </tr>\n",
       "    <tr>\n",
       "      <th>3</th>\n",
       "      <td>0.054688</td>\n",
       "      <td>0.461111</td>\n",
       "      <td>0.168750</td>\n",
       "      <td>1c322a8bbd645b20da263dd342dc20ce_eye_right_3.jpg</td>\n",
       "      <td>0.503125</td>\n",
       "      <td>0.162500</td>\n",
       "      <td>0.447222</td>\n",
       "      <td>-0.157813</td>\n",
       "      <td>0.455556</td>\n",
       "      <td>0.070833</td>\n",
       "      <td>-0.232813</td>\n",
       "      <td>0.384722</td>\n",
       "      <td>0.066667</td>\n",
       "      <td>0.585938</td>\n",
       "      <td>-0.998536</td>\n",
       "      <td>1c322a8bbd645b20da263dd342dc20ce_eye_left_3.jpg</td>\n",
       "      <td>False</td>\n",
       "    </tr>\n",
       "    <tr>\n",
       "      <th>4</th>\n",
       "      <td>0.054688</td>\n",
       "      <td>0.456944</td>\n",
       "      <td>0.165625</td>\n",
       "      <td>1c322a8bbd645b20da263dd342dc20ce_eye_right_4.jpg</td>\n",
       "      <td>0.503125</td>\n",
       "      <td>0.162500</td>\n",
       "      <td>0.447222</td>\n",
       "      <td>-0.157813</td>\n",
       "      <td>0.455556</td>\n",
       "      <td>0.075000</td>\n",
       "      <td>-0.232813</td>\n",
       "      <td>0.384722</td>\n",
       "      <td>0.066667</td>\n",
       "      <td>0.585938</td>\n",
       "      <td>-0.998536</td>\n",
       "      <td>1c322a8bbd645b20da263dd342dc20ce_eye_left_4.jpg</td>\n",
       "      <td>False</td>\n",
       "    </tr>\n",
       "  </tbody>\n",
       "</table>\n",
       "</div>"
      ],
      "text/plain": [
       "   eye_right_x  eye_right_y  eye_right_width  \\\n",
       "0     0.051562     0.456944         0.171875   \n",
       "1     0.050000     0.459722         0.175000   \n",
       "2     0.050000     0.458333         0.171875   \n",
       "3     0.054688     0.461111         0.168750   \n",
       "4     0.054688     0.456944         0.165625   \n",
       "\n",
       "                                    eye_right_image  face_width  \\\n",
       "0  1c322a8bbd645b20da263dd342dc20ce_eye_right_0.jpg    0.503125   \n",
       "1  1c322a8bbd645b20da263dd342dc20ce_eye_right_1.jpg    0.503125   \n",
       "2  1c322a8bbd645b20da263dd342dc20ce_eye_right_2.jpg    0.503125   \n",
       "3  1c322a8bbd645b20da263dd342dc20ce_eye_right_3.jpg    0.503125   \n",
       "4  1c322a8bbd645b20da263dd342dc20ce_eye_right_4.jpg    0.503125   \n",
       "\n",
       "   eye_left_width  face_height  eye_left_x  eye_left_y  eye_right_height  \\\n",
       "0        0.171875     0.447222   -0.162500    0.454167          0.081944   \n",
       "1        0.165625     0.447222   -0.160937    0.456944          0.070833   \n",
       "2        0.171875     0.447222   -0.160937    0.454167          0.077778   \n",
       "3        0.162500     0.447222   -0.157813    0.455556          0.070833   \n",
       "4        0.162500     0.447222   -0.157813    0.455556          0.075000   \n",
       "\n",
       "     face_x    face_y  eye_left_height         y         x  \\\n",
       "0 -0.232813  0.384722         0.077778  0.585938 -0.998536   \n",
       "1 -0.232813  0.384722         0.059722  0.585938 -0.998536   \n",
       "2 -0.232813  0.384722         0.075000  0.585938 -0.998536   \n",
       "3 -0.232813  0.384722         0.066667  0.585938 -0.998536   \n",
       "4 -0.232813  0.384722         0.066667  0.585938 -0.998536   \n",
       "\n",
       "                                    eye_left_image  glasses  \n",
       "0  1c322a8bbd645b20da263dd342dc20ce_eye_left_0.jpg    False  \n",
       "1  1c322a8bbd645b20da263dd342dc20ce_eye_left_1.jpg    False  \n",
       "2  1c322a8bbd645b20da263dd342dc20ce_eye_left_2.jpg    False  \n",
       "3  1c322a8bbd645b20da263dd342dc20ce_eye_left_3.jpg    False  \n",
       "4  1c322a8bbd645b20da263dd342dc20ce_eye_left_4.jpg    False  "
      ]
     },
     "execution_count": 3,
     "metadata": {},
     "output_type": "execute_result"
    }
   ],
   "source": [
    "data.head()"
   ]
  },
  {
   "cell_type": "markdown",
   "metadata": {},
   "source": [
    "## Split data"
   ]
  },
  {
   "cell_type": "code",
   "execution_count": 4,
   "metadata": {
    "collapsed": true
   },
   "outputs": [],
   "source": [
    "(\n",
    "    (train_data, train_imgs_left, train_imgs_right),\n",
    "    (validation_data, validation_imgs_left, validation_imgs_right),\n",
    "    (test_data, test_imgs_left, test_imgs_right)\n",
    ") = utils_data.split(\n",
    "    data, imgs_left, imgs_right,\n",
    "    train_size=0.95,\n",
    "    validation_size=0.95,\n",
    "    random_state=42\n",
    ")"
   ]
  },
  {
   "cell_type": "code",
   "execution_count": 5,
   "metadata": {},
   "outputs": [
    {
     "name": "stdout",
     "output_type": "stream",
     "text": [
      "Train length: 43647\n",
      "Validation length: 2298\n",
      "Test length: 2419\n"
     ]
    }
   ],
   "source": [
    "print(\"Train length: {}\".format(len(train_data)))\n",
    "print(\"Validation length: {}\".format(len(validation_data)))\n",
    "print(\"Test length: {}\".format(len(test_data)))"
   ]
  },
  {
   "cell_type": "markdown",
   "metadata": {},
   "source": [
    "## Model"
   ]
  },
  {
   "cell_type": "markdown",
   "metadata": {},
   "source": [
    "### Architecture"
   ]
  },
  {
   "cell_type": "code",
   "execution_count": 6,
   "metadata": {
    "collapsed": true
   },
   "outputs": [],
   "source": [
    "def get_model(features, left_imgs, right_imgs, *args, **kwargs):\n",
    "    with tf.variable_scope('model'):\n",
    "        left_flat = tf.contrib.layers.flatten (left_imgs)\n",
    "        right_flat =  tf.contrib.layers.flatten (right_imgs)\n",
    "        flat_input = tf.concat(\n",
    "            values=[features, left_flat, right_flat],\n",
    "            axis=1,\n",
    "            name='concat'\n",
    "        )\n",
    "        # 12+(20x30)x2 = 1212 inputs\n",
    "        d1 = tf.layers.dense(flat_input, 1024, activation=tf.nn.relu)\n",
    "        d2 = tf.layers.dense(d1, 512, activation=tf.nn.relu)\n",
    "        d3 = tf.layers.dense(d2, 128, activation=tf.nn.relu)\n",
    "        d4 = tf.layers.dense(d3, 2, activation=None)\n",
    "    return d4"
   ]
  },
  {
   "cell_type": "markdown",
   "metadata": {},
   "source": [
    "### Parameters"
   ]
  },
  {
   "cell_type": "code",
   "execution_count": 7,
   "metadata": {
    "collapsed": true
   },
   "outputs": [],
   "source": [
    "MODEL_NAME = 'baseline-05'\n",
    "\n",
    "EPOCHS = 1\n",
    "BATCH_SIZE = 128\n",
    "LEARNING_RATE = 0.001"
   ]
  },
  {
   "cell_type": "markdown",
   "metadata": {},
   "source": [
    "## Runs"
   ]
  },
  {
   "cell_type": "code",
   "execution_count": 8,
   "metadata": {
    "collapsed": true
   },
   "outputs": [],
   "source": [
    "model = Model(MODEL_NAME, get_model)"
   ]
  },
  {
   "cell_type": "markdown",
   "metadata": {},
   "source": [
    "### Train"
   ]
  },
  {
   "cell_type": "code",
   "execution_count": 9,
   "metadata": {
    "scrolled": true
   },
   "outputs": [
    {
     "name": "stdout",
     "output_type": "stream",
     "text": [
      "Epoch: 1 of 1\n",
      "\tTrain VS Validation: 0.5744094848632812 0.5727275013923645\n",
      "\tTrain VS Validation: 0.5422289371490479 0.4859340190887451\n",
      "\tTrain VS Validation: 0.41297852993011475 0.44618117809295654\n",
      "\tTrain VS Validation: 0.3883928656578064 0.3999041020870209\n",
      "\tTrain VS Validation: 0.3913787603378296 0.3899846374988556\n",
      "\tTrain VS Validation: 0.3714675307273865 0.38523632287979126\n",
      "\tTrain VS Validation: 0.4630874693393707 0.40230482816696167\n",
      "\tTrain VS Validation: 0.37216538190841675 0.3711010217666626\n",
      "\tTrain VS Validation: 0.3668597340583801 0.3451758921146393\n",
      "\tTrain VS Validation: 0.3152296841144562 0.356678307056427\n",
      "\tTrain VS Validation: 0.2906443476676941 0.329077810049057\n",
      "\tTrain VS Validation: 0.29306715726852417 0.3359682857990265\n",
      "\tTrain VS Validation: 0.30180081725120544 0.320851594209671\n",
      "\tTrain VS Validation: 0.3180691599845886 0.3172842562198639\n",
      "\tTrain VS Validation: 0.32251113653182983 0.31600111722946167\n",
      "\tTrain VS Validation: 0.2723208963871002 0.3341096341609955\n",
      "\tTrain VS Validation: 0.2645457684993744 0.3093477785587311\n",
      "Train: 0.36830341815948486\n",
      "Validation: 0.2983502149581909\n",
      "\n",
      "\n"
     ]
    }
   ],
   "source": [
    "model.train(\n",
    "    train_data, train_imgs_left, train_imgs_right,\n",
    "    validation_data, validation_imgs_left, validation_imgs_right,\n",
    "    BATCH_SIZE, EPOCHS, LEARNING_RATE\n",
    ")"
   ]
  },
  {
   "cell_type": "markdown",
   "metadata": {},
   "source": [
    "### Test"
   ]
  },
  {
   "cell_type": "code",
   "execution_count": 10,
   "metadata": {
    "scrolled": false
   },
   "outputs": [
    {
     "name": "stdout",
     "output_type": "stream",
     "text": [
      "INFO:tensorflow:Restoring parameters from data/models/baseline-05.final\n"
     ]
    }
   ],
   "source": [
    "model_test = Model(MODEL_NAME, saved_model=MODEL_NAME+\".final\")"
   ]
  },
  {
   "cell_type": "code",
   "execution_count": 11,
   "metadata": {},
   "outputs": [
    {
     "data": {
      "text/plain": [
       "0.29879111"
      ]
     },
     "execution_count": 11,
     "metadata": {},
     "output_type": "execute_result"
    }
   ],
   "source": [
    "model_test.test(\n",
    "    test_data, test_imgs_left, test_imgs_right\n",
    ")"
   ]
  },
  {
   "cell_type": "markdown",
   "metadata": {},
   "source": [
    "### Results\n",
    "\n",
    "\n",
    "| Name | Epochs | Batch Size | Learning rate  | Train | Validation | Test |\n",
    "|:--:|:--:|:--:|:--:|:--:|:--:|:--:|\n",
    "| baseline-01 | 20 | 512 | 0.005 | 0.1395065039396286 | 0.19760280847549438 | 0.19909994 |\n",
    "| baseline-02 | 25 | 256 | 0.001 | 0.07893882691860199 | 0.15243780612945557 | 0.15074611 |\n",
    "| baseline-03 | 40 | 256 | 0.0001 | 0.057024769484996796 | 0.1646086573600769 | 0.16265412 |\n",
    "| baseline-04 | 100 | 512 | 0.0001 | 0.03750447556376457 | 0.1642383337020874 | 0.16351545 |\n",
    "| baseline-05 | 200 | 1024 | 0.0001 | 0.029262783005833626 | 0.1729333996772766 | 0.17122823 |"
   ]
  }
 ],
 "metadata": {
  "kernelspec": {
   "display_name": "Python 3",
   "language": "python",
   "name": "python3"
  },
  "language_info": {
   "codemirror_mode": {
    "name": "ipython",
    "version": 3
   },
   "file_extension": ".py",
   "mimetype": "text/x-python",
   "name": "python",
   "nbconvert_exporter": "python",
   "pygments_lexer": "ipython3",
   "version": "3.5.2"
  }
 },
 "nbformat": 4,
 "nbformat_minor": 2
}
