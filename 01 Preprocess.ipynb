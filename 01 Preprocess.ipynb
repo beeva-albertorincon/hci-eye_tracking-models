{
 "cells": [
  {
   "cell_type": "markdown",
   "metadata": {},
   "source": [
    "# Preprocess data"
   ]
  },
  {
   "cell_type": "code",
   "execution_count": null,
   "metadata": {
    "collapsed": true
   },
   "outputs": [],
   "source": [
    "import numpy as np\n",
    "import pandas as pd\n",
    "import seaborn as sns\n",
    "import skimage.io\n",
    "\n",
    "import config\n",
    "from utils import normalize\n",
    "\n",
    "%matplotlib inline"
   ]
  },
  {
   "cell_type": "markdown",
   "metadata": {},
   "source": [
    "## Load dataset"
   ]
  },
  {
   "cell_type": "code",
   "execution_count": null,
   "metadata": {
    "scrolled": false
   },
   "outputs": [],
   "source": [
    "# Load dataset\n",
    "data = pd.read_csv(\n",
    "    config.PATH_DATA_FEATURES01_DLIB_AUGMENTED_CSV,\n",
    "    usecols={\n",
    "        # Eye Right\n",
    "        'eye_right_x':  np.int32,\n",
    "        'eye_right_y':  np.int32,\n",
    "        'eye_right_width':  np.int32,\n",
    "        'eye_right_height': np.int32,\n",
    "        'eye_right_image':  np.str,\n",
    "\n",
    "        # Eye Left\n",
    "        'eye_left_x': np.int32,\n",
    "        'eye_left_y': np.int32,\n",
    "        'eye_left_width': np.int32,\n",
    "        'eye_left_height': np.int32,\n",
    "        'eye_left_image':  np.str,\n",
    "\n",
    "        # Face\n",
    "        'face_width': np.int32,\n",
    "        'face_height': np.int32,\n",
    "        'face_x': np.int32,\n",
    "        'face_y': np.int32,\n",
    "\n",
    "        # Shot\n",
    "        'y': np.int32,\n",
    "        'x': np.int32,\n",
    "        'score': np.int32,\n",
    "        'timestamp':  np.int32,\n",
    "        'img_path':  np.str,\n",
    "        'img': np.str,  # Relative to the raw dataset\n",
    "\n",
    "        # Game\n",
    "        'game_id': np.str,\n",
    "        'glasses': np.bool,\n",
    "        'screen_diagonal': np.float,\n",
    "        'camera_position': np.str,\n",
    "        'screen_height': np.int32,\n",
    "        'screen_width': np.int32,\n",
    "    }\n",
    ")"
   ]
  },
  {
   "cell_type": "markdown",
   "metadata": {},
   "source": [
    "## Scale"
   ]
  },
  {
   "cell_type": "markdown",
   "metadata": {},
   "source": [
    "Since the webcam position is Top Center, there shouldn't be negative values in the y axis."
   ]
  },
  {
   "cell_type": "markdown",
   "metadata": {},
   "source": [
    "![](img/reference.png)"
   ]
  },
  {
   "cell_type": "code",
   "execution_count": null,
   "metadata": {
    "collapsed": true
   },
   "outputs": [],
   "source": [
    "normalize.normalize_data(data, config.WEBCAM_WIDTH, config.WEBCAM_HEIGHT)\n",
    "normalize.normalize_labels(data, config.SCREEN_WIDTH, config.SCREEN_HEIGHT)"
   ]
  },
  {
   "cell_type": "markdown",
   "metadata": {},
   "source": [
    "## Drop unneeded columns"
   ]
  },
  {
   "cell_type": "code",
   "execution_count": null,
   "metadata": {
    "collapsed": true
   },
   "outputs": [],
   "source": [
    "data.drop(\n",
    "    labels= [\n",
    "        'score', 'timestamp', 'img_path', 'img', 'game_id', 'screen_diagonal',\n",
    "        'camera_position', 'screen_height', 'screen_width'\n",
    "    ],\n",
    "    axis=1,\n",
    "    inplace=True\n",
    ")"
   ]
  },
  {
   "cell_type": "markdown",
   "metadata": {},
   "source": [
    "## Clean data"
   ]
  },
  {
   "cell_type": "code",
   "execution_count": null,
   "metadata": {
    "scrolled": true
   },
   "outputs": [],
   "source": [
    "data.describe().loc[['min','max']]"
   ]
  },
  {
   "cell_type": "markdown",
   "metadata": {},
   "source": [
    "ERRORS:\n",
    "* There shouldn't be negative y position values: face_y"
   ]
  },
  {
   "cell_type": "code",
   "execution_count": null,
   "metadata": {
    "collapsed": true
   },
   "outputs": [],
   "source": [
    "data.drop(data.index[data['face_y']<0], inplace=True)"
   ]
  },
  {
   "cell_type": "code",
   "execution_count": null,
   "metadata": {
    "scrolled": false
   },
   "outputs": [],
   "source": [
    "data.describe().loc[['min','max']]"
   ]
  },
  {
   "cell_type": "markdown",
   "metadata": {},
   "source": [
    "Everything makes sense."
   ]
  },
  {
   "cell_type": "markdown",
   "metadata": {},
   "source": [
    "## Target stats"
   ]
  },
  {
   "cell_type": "code",
   "execution_count": null,
   "metadata": {
    "scrolled": false
   },
   "outputs": [],
   "source": [
    "sns.jointplot(x=\"x\", y=\"y\", data=data, kind=\"scatter\", stat_func=None, size=12, ratio=10)"
   ]
  },
  {
   "cell_type": "code",
   "execution_count": null,
   "metadata": {
    "scrolled": true
   },
   "outputs": [],
   "source": [
    "sns.distplot(data['y'], hist=True, norm_hist=False, kde=False)"
   ]
  },
  {
   "cell_type": "code",
   "execution_count": null,
   "metadata": {
    "scrolled": true
   },
   "outputs": [],
   "source": [
    "sns.distplot(data['x'], hist=True, norm_hist=False, kde=False)"
   ]
  },
  {
   "cell_type": "markdown",
   "metadata": {},
   "source": [
    "## Eye images structure"
   ]
  },
  {
   "cell_type": "code",
   "execution_count": null,
   "metadata": {},
   "outputs": [],
   "source": [
    "imgs_left = []\n",
    "imgs_right = []\n",
    "errors = []\n",
    "\n",
    "for i, row in data.iterrows():\n",
    "    try:\n",
    "        # Scale pixel value in range [-1,1]\n",
    "        imgs_left.append((skimage.io.imread(config.PATH_DATA_FEATURES01_DLIB_AUGMENTED+row['eye_left_image'])/255-0.5)*2)\n",
    "    except Exception as e:\n",
    "        errors.append(path)\n",
    "    try:\n",
    "        # Scale pixel value in range [-1,1]\n",
    "        imgs_right.append((skimage.io.imread(config.PATH_DATA_FEATURES01_DLIB_AUGMENTED+row['eye_right_image'])/255-0.5)*2)\n",
    "    except Exception as e:\n",
    "        errors.append(path)"
   ]
  },
  {
   "cell_type": "markdown",
   "metadata": {},
   "source": [
    "## Save things"
   ]
  },
  {
   "cell_type": "code",
   "execution_count": null,
   "metadata": {
    "collapsed": true
   },
   "outputs": [],
   "source": [
    "# CSV\n",
    "data.to_csv(config.PATH_DATA_FEATURES01_DLIB_AUGMENTED_NORM_CSV, index=False)\n",
    "# Images\n",
    "np.save(file=config.PATH_DATA_FEATURES01_DLIB_AUGMENTED_NORM_IMGS_LEFT, arr=imgs_left)\n",
    "np.save(file=config.PATH_DATA_FEATURES01_DLIB_AUGMENTED_NORM_IMGS_RIGHT, arr=imgs_right)"
   ]
  }
 ],
 "metadata": {
  "kernelspec": {
   "display_name": "Python 3",
   "language": "python",
   "name": "python3"
  },
  "language_info": {
   "codemirror_mode": {
    "name": "ipython",
    "version": 3
   },
   "file_extension": ".py",
   "mimetype": "text/x-python",
   "name": "python",
   "nbconvert_exporter": "python",
   "pygments_lexer": "ipython3",
   "version": "3.5.2"
  }
 },
 "nbformat": 4,
 "nbformat_minor": 2
}
