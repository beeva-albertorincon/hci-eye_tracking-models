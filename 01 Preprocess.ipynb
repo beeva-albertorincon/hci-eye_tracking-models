{
 "cells": [
  {
   "cell_type": "markdown",
   "metadata": {},
   "source": [
    "# Preprocess data"
   ]
  },
  {
   "cell_type": "code",
   "execution_count": null,
   "metadata": {
    "collapsed": true
   },
   "outputs": [],
   "source": [
    "import numpy as np\n",
    "import pandas as pd\n",
    "import seaborn as sns\n",
    "import skimage.io\n",
    "\n",
    "import config\n",
    "\n",
    "%matplotlib inline"
   ]
  },
  {
   "cell_type": "markdown",
   "metadata": {},
   "source": [
    "## Load dataset"
   ]
  },
  {
   "cell_type": "code",
   "execution_count": null,
   "metadata": {
    "collapsed": true,
    "scrolled": false
   },
   "outputs": [],
   "source": [
    "# Load dataset\n",
    "data = pd.read_csv(\n",
    "    config.PATH_DATASET01_DLIB_AUGMENTED+'features.csv',\n",
    "    usecols={\n",
    "        # Eye Right\n",
    "        'eye_right_x':  np.int32,\n",
    "        'eye_right_y':  np.int32,\n",
    "        'eye_right_width':  np.int32,\n",
    "        'eye_right_height': np.int32,\n",
    "        'eye_right_image':  np.str,\n",
    "\n",
    "        # Eye Left\n",
    "        'eye_left_x': np.int32,\n",
    "        'eye_left_y': np.int32,\n",
    "        'eye_left_width': np.int32,\n",
    "        'eye_left_height': np.int32,\n",
    "        'eye_left_image':  np.str,\n",
    "\n",
    "        # Face\n",
    "        'face_width': np.int32,\n",
    "        'face_height': np.int32,\n",
    "        'face_x': np.int32,\n",
    "        'face_y': np.int32,\n",
    "\n",
    "        # Shot\n",
    "        'y': np.int32,\n",
    "        'x': np.int32,\n",
    "        'score': np.int32,\n",
    "        'timestamp':  np.int32,\n",
    "        'img_path':  np.str,\n",
    "        'img': np.str,  # Relative to the raw dataset\n",
    "\n",
    "        # Game\n",
    "        'game_id': np.str,\n",
    "        'glasses': np.bool,\n",
    "        'screen_diagonal': np.float,\n",
    "        'camera_position': np.str,\n",
    "        'screen_height': np.int32,\n",
    "        'screen_width': np.int32,\n",
    "    }\n",
    ")"
   ]
  },
  {
   "cell_type": "markdown",
   "metadata": {},
   "source": [
    "## Scale"
   ]
  },
  {
   "cell_type": "markdown",
   "metadata": {},
   "source": [
    "Since the webcam position is Top Center, there shouldn't be negative values in the y axis."
   ]
  },
  {
   "cell_type": "markdown",
   "metadata": {},
   "source": [
    "![](img/reference.png)"
   ]
  },
  {
   "cell_type": "code",
   "execution_count": null,
   "metadata": {
    "collapsed": true
   },
   "outputs": [],
   "source": [
    "# Select data with camera in the Top Centered position\n",
    "data = data.loc[data['camera_position']=='TC']\n",
    "\n",
    "#\n",
    "### Laptop screen\n",
    "#\n",
    "data['x'] = (data['x']/data['screen_width']*2)-1\n",
    "data['y'] = data['y']/data['screen_height']\n",
    "\n",
    "\n",
    "#\n",
    "### Webcam imgs\n",
    "#\n",
    "\n",
    "\n",
    "WEBCAM_WIDTH = 1280\n",
    "WEBCAM_HEIGHT = 720\n",
    "\n",
    "\n",
    "cols_x = ['eye_right_x','eye_left_x','face_x']  # Range [-1,1]\n",
    "for col in cols_x:\n",
    "    data[col] = data[col]/WEBCAM_WIDTH*2-1\n",
    "\n",
    "cols_width = ['eye_right_width','eye_left_width','face_width']  # Range [0,2]\n",
    "for col in cols_width:\n",
    "    data[col] = data[col]/WEBCAM_WIDTH*2\n",
    "\n",
    "cols_y = ['eye_right_y','eye_left_y','face_y']  # Range [-1,1]\n",
    "for col in cols_y:\n",
    "    data[col] = (data[col]+WEBCAM_HEIGHT)/WEBCAM_HEIGHT-1\n",
    "    \n",
    "cols_height = ['eye_right_height','eye_left_height','face_height'] # Range [0,2]\n",
    "for col in cols_height:\n",
    "    data[col] = data[col]/WEBCAM_HEIGHT"
   ]
  },
  {
   "cell_type": "markdown",
   "metadata": {},
   "source": [
    "## Drop unneeded columns"
   ]
  },
  {
   "cell_type": "code",
   "execution_count": null,
   "metadata": {
    "collapsed": true
   },
   "outputs": [],
   "source": [
    "data.drop(\n",
    "    labels= [\n",
    "        'score', 'timestamp', 'img_path', 'img', 'game_id', 'screen_diagonal',\n",
    "        'camera_position', 'screen_height', 'screen_width'\n",
    "    ],\n",
    "    axis=1,\n",
    "    inplace=True\n",
    ")"
   ]
  },
  {
   "cell_type": "markdown",
   "metadata": {},
   "source": [
    "## Clean data"
   ]
  },
  {
   "cell_type": "code",
   "execution_count": null,
   "metadata": {
    "scrolled": true
   },
   "outputs": [],
   "source": [
    "data.describe().loc[['min','max']]"
   ]
  },
  {
   "cell_type": "markdown",
   "metadata": {},
   "source": [
    "ERRORS:\n",
    "* There shouldn't be negative y position values: eye_right_y,  face_y\n",
    "* face_x cannot be less than -1"
   ]
  },
  {
   "cell_type": "code",
   "execution_count": null,
   "metadata": {
    "collapsed": true
   },
   "outputs": [],
   "source": [
    "data.drop(data.index[data['eye_right_y']<0], inplace=True)\n",
    "data.drop(data.index[data['face_y']<0], inplace=True)\n",
    "data.drop(data.index[data['face_x']<-1], inplace=True)"
   ]
  },
  {
   "cell_type": "code",
   "execution_count": null,
   "metadata": {
    "scrolled": false
   },
   "outputs": [],
   "source": [
    "data.describe().loc[['min','max']]"
   ]
  },
  {
   "cell_type": "markdown",
   "metadata": {},
   "source": [
    "Everything makes sense."
   ]
  },
  {
   "cell_type": "markdown",
   "metadata": {},
   "source": [
    "## Target stats"
   ]
  },
  {
   "cell_type": "code",
   "execution_count": null,
   "metadata": {
    "scrolled": false
   },
   "outputs": [],
   "source": [
    "sns.jointplot(x=\"x\", y=\"y\", data=data, kind=\"scatter\", stat_func=None, size=12, ratio=10)"
   ]
  },
  {
   "cell_type": "code",
   "execution_count": null,
   "metadata": {
    "scrolled": true
   },
   "outputs": [],
   "source": [
    "sns.distplot(data['y'], hist=True, norm_hist=False, kde=False)"
   ]
  },
  {
   "cell_type": "code",
   "execution_count": null,
   "metadata": {
    "scrolled": false
   },
   "outputs": [],
   "source": [
    "sns.distplot(data['x'], hist=True, norm_hist=False, kde=False)"
   ]
  },
  {
   "cell_type": "markdown",
   "metadata": {},
   "source": [
    "## Eye images structure"
   ]
  },
  {
   "cell_type": "code",
   "execution_count": null,
   "metadata": {
    "collapsed": true
   },
   "outputs": [],
   "source": [
    "imgs_left = []\n",
    "imgs_right = []\n",
    "errors = []\n",
    "\n",
    "for i, row in data.iterrows():\n",
    "    try:\n",
    "        # Scale pixel value in range [-1,1]\n",
    "        imgs_left.append((skimage.io.imread(config.PATH_DATASET01_DLIB_AUGMENTED+row['eye_left_image'])/255-0.5)*2)\n",
    "    except Exception as e:\n",
    "        errors.append(path)\n",
    "    try:\n",
    "        # Scale pixel value in range [-1,1]\n",
    "        imgs_right.append((skimage.io.imread(config.PATH_DATASET01_DLIB_AUGMENTED+row['eye_right_image'])/255-0.5)*2)\n",
    "    except Exception as e:\n",
    "        errors.append(path)"
   ]
  },
  {
   "cell_type": "markdown",
   "metadata": {},
   "source": [
    "### Delete rows with not found images"
   ]
  },
  {
   "cell_type": "code",
   "execution_count": null,
   "metadata": {
    "collapsed": true
   },
   "outputs": [],
   "source": [
    "data.drop(data.index[data['eye_right_image'].isin(errors)], inplace=True)"
   ]
  },
  {
   "cell_type": "markdown",
   "metadata": {},
   "source": [
    "## Save things"
   ]
  },
  {
   "cell_type": "code",
   "execution_count": null,
   "metadata": {
    "collapsed": true
   },
   "outputs": [],
   "source": [
    "# CSV\n",
    "data.to_csv(config.PATH_DATA, index=False)\n",
    "# Images\n",
    "np.save(file=config.PATH_IMGS_LEFT, arr=imgs_left)\n",
    "np.save(file=config.PATH_IMGS_RIGHT, arr=imgs_right)"
   ]
  }
 ],
 "metadata": {
  "kernelspec": {
   "display_name": "Python 3",
   "language": "python",
   "name": "python3"
  },
  "language_info": {
   "codemirror_mode": {
    "name": "ipython",
    "version": 3
   },
   "file_extension": ".py",
   "mimetype": "text/x-python",
   "name": "python",
   "nbconvert_exporter": "python",
   "pygments_lexer": "ipython3",
   "version": "3.5.2"
  }
 },
 "nbformat": 4,
 "nbformat_minor": 2
}
